{
 "cells": [
  {
   "cell_type": "code",
   "execution_count": 1,
   "metadata": {},
   "outputs": [],
   "source": [
    "# import libraries\n",
    "import pandas as pd\n",
    "from selenium import webdriver\n",
    "from selenium.webdriver.common.keys import Keys\n",
    "from selenium.webdriver.chrome.options import Options\n",
    "import time\n",
    "import re"
   ]
  },
  {
   "cell_type": "markdown",
   "metadata": {},
   "source": [
    "#### 1)   create a name list for searching"
   ]
  },
  {
   "cell_type": "code",
   "execution_count": 2,
   "metadata": {},
   "outputs": [
    {
     "name": "stdout",
     "output_type": "stream",
     "text": [
      "0             CARLOS IVAN VALENZUELA BENITEZ\n",
      "1               CARLOS IVAN VARGAS HERNANDEZ\n",
      "2       CARLOS IVAN VLADIMIR ALVAREZ SAUCEDO\n",
      "3                   CARLOS IVAN ZEA OLIVARES\n",
      "4           CARLOS JACINTO CAMACHO MANDUJANO\n",
      "                        ...                 \n",
      "3602           ZAIRA BERENICE GOMEZ MARTINEZ\n",
      "3603           ZEFERINO CARLOS RAMOS AGUILAR\n",
      "3604              ZEIDY BRENDA LOPEZ ESTRADA\n",
      "3605         ZUEMY MARIANA SALINAS HERNANDEZ\n",
      "3606           ZULLY BERENICE MARTINEZ LOPEZ\n",
      "Name: Nombre, Length: 3607, dtype: object\n"
     ]
    }
   ],
   "source": [
    "# read in the csv file for search\n",
    "df=pd.read_csv(\"name_4.csv\",index_col=False, encoding='latin-1')['Nombre']    # specify the file name\n",
    "print(df)\n",
    "\n",
    "search_list=df.tolist()"
   ]
  },
  {
   "cell_type": "markdown",
   "metadata": {},
   "source": [
    "**NOTE**: special characters/dots, etc., in the employee names should be removed before using for query."
   ]
  },
  {
   "cell_type": "markdown",
   "metadata": {},
   "source": [
    "#### 2) define a function for user name/ID extraction"
   ]
  },
  {
   "cell_type": "code",
   "execution_count": 3,
   "metadata": {},
   "outputs": [],
   "source": [
    "# add 'chromedriver' executable to PATH\n",
    "import os\n",
    "os.environ['PATH']+=\";C:\\Program Files (x86)\\Google\\Chrome\\Application\"  "
   ]
  },
  {
   "cell_type": "code",
   "execution_count": 4,
   "metadata": {},
   "outputs": [],
   "source": [
    "# specify the target webpage for scraping\n",
    "start_url=\"https://servidorespublicos.gob.mx/\"   \n",
    "\n",
    "# initiate the driver\n",
    "chrome_options = webdriver.chrome.options.Options()\n",
    "chrome_options.add_argument('--headless')\n",
    "driver = webdriver.Chrome(options=chrome_options)\n",
    "\n",
    "try:\n",
    "    driver.implicitly_wait(15)\n",
    "    driver.get(start_url)\n",
    "except Exception as e:\n",
    "    print(e)\n",
    "    \n",
    "# click \"De acuerdo\"   \n",
    "while True:\n",
    "    try:\n",
    "        driver.find_element_by_xpath(\"//*[@id='modalInfo']/div/div/div[3]/button\").click()\n",
    "        break\n",
    "    except: \n",
    "        continue"
   ]
  },
  {
   "cell_type": "code",
   "execution_count": 5,
   "metadata": {},
   "outputs": [],
   "source": [
    "# define the function to send query and extract user information\n",
    "def search_and_extraction(search_name):\n",
    "    # send queries\n",
    "    iptbox=driver.find_element_by_css_selector('input[name=\"nombre\"]')\n",
    "    btn=driver.find_element_by_css_selector('button[value=\"Buscar\"]')\n",
    "    \n",
    "    iptbox.clear()\n",
    "    iptbox.send_keys(search_name)\n",
    "    btn.submit()\n",
    "    # create a list to save the returned list of employees\n",
    "    time.sleep(6)\n",
    "    returned_list=driver.find_elements_by_xpath(\"//*[@id='tableBusqueda']/tbody/tr/td/a\")\n",
    "    # extract user name & ID (three candidate user identifiers: 'idUsrDecnet','CUSP','RFC')\n",
    "    space=' '\n",
    "    results=[]\n",
    "    for name in returned_list:\n",
    "        # get 'href' and its attributes\n",
    "        href=name.get_attribute('href')\n",
    "        href_elements=name.get_attribute('href').split(';')\n",
    "        # get user identifiers using regular expressions\n",
    "        if len(href_elements)==9:\n",
    "            userName=name.text\n",
    "            userID_1=re.findall('[0-9]+', href_elements[5])[0]             # 'idUsrDecnet'\n",
    "            userID_2=' '                                                   # 'CUSP' is missing\n",
    "            userID_3=re.findall('[0-9A-Za-z]+', href_elements[6])[1]       # 'RFC' \n",
    "            results.append((userName,userID_1, userID_2, userID_3, href))\n",
    "        \n",
    "        elif len(href_elements)==10:\n",
    "            userName=name.text\n",
    "            userID_1=re.findall('[0-9]+', href_elements[5])[0]             # 'idUsrDecnet'\n",
    "            userID_2=re.findall('[0-9A-Za-z]+', href_elements[6])[1]       # 'CUSP'  \n",
    "            userID_3=re.findall('[0-9A-Za-z]+', href_elements[7])[1]       # 'RFC'\n",
    "            results.append((userName,userID_1, userID_2, userID_3, href))\n",
    "    \n",
    "    return results"
   ]
  },
  {
   "cell_type": "markdown",
   "metadata": {},
   "source": [
    "#### 3) send names for searching and retrieve user IDs"
   ]
  },
  {
   "cell_type": "code",
   "execution_count": null,
   "metadata": {},
   "outputs": [],
   "source": [
    "# call the function\n",
    "search_results=[]\n",
    "for name in search_list:\n",
    "    search_results += search_and_extraction(name)   "
   ]
  },
  {
   "cell_type": "code",
   "execution_count": 7,
   "metadata": {},
   "outputs": [
    {
     "name": "stdout",
     "output_type": "stream",
     "text": [
      "                            Nombre idUsrDecnet                CUSP  \\\n",
      "0            SONIA VENTURA HILERIO      520665                       \n",
      "1            SONIA VENTURA HILERIO      520665                       \n",
      "2            SONIA VENTURA HILERIO      520665                       \n",
      "3            SONIA VENTURA HILERIO      520665                       \n",
      "4            SONIA VENTURA HILERIO      520665                       \n",
      "...                            ...         ...                 ...   \n",
      "2817  TANIA LIZBETH GONZALEZ ROJAS     1009802                       \n",
      "2818            TANIA ROMAN GUZMAN      428188  ROGT691110MDFMZN01   \n",
      "2819            TANIA ROMAN GUZMAN      428188                       \n",
      "2820            TANIA ROMAN GUZMAN      428188                       \n",
      "2821          TANIA ROMERO SEVILLA     3529872  ROST911112MDFMVN03   \n",
      "\n",
      "                RFC                                               href  \n",
      "0     VEHS6907082F1  https://servidorespublicos.gob.mx/declaracione...  \n",
      "1     VEHS6907082F1  https://servidorespublicos.gob.mx/declaracione...  \n",
      "2     VEHS6907082F1  https://servidorespublicos.gob.mx/declaracione...  \n",
      "3     VEHS6907082F1  https://servidorespublicos.gob.mx/declaracione...  \n",
      "4     VEHS6907082F1  https://servidorespublicos.gob.mx/declaracione...  \n",
      "...             ...                                                ...  \n",
      "2817  GORT880605240  https://servidorespublicos.gob.mx/declaracione...  \n",
      "2818  ROGT6911103I2  https://servidorespublicos.gob.mx/declaracione...  \n",
      "2819  ROGT6911103I2  https://servidorespublicos.gob.mx/declaracione...  \n",
      "2820  ROGT691110312  https://servidorespublicos.gob.mx/declaracione...  \n",
      "2821  ROST911112DF7  https://servidorespublicos.gob.mx/declaracione...  \n",
      "\n",
      "[2822 rows x 5 columns]\n"
     ]
    }
   ],
   "source": [
    "# save the results as dataframe\n",
    "df=pd.DataFrame(search_results)\n",
    "df.columns=['Nombre','idUsrDecnet','CUSP', 'RFC', 'href']\n",
    "print(df)\n",
    "\n",
    "# export the results as csv file\n",
    "df.to_csv('Outcomes/2. name_info/Name_Info_103.csv', encoding='utf-8-sig', index=False)"
   ]
  },
  {
   "cell_type": "markdown",
   "metadata": {},
   "source": [
    "**NOTE:** The search process might break down if the target element is not found. In this case, we simply re-start scraping from the last name being processed. "
   ]
  },
  {
   "cell_type": "code",
   "execution_count": 8,
   "metadata": {},
   "outputs": [
    {
     "name": "stdout",
     "output_type": "stream",
     "text": [
      "TANIA ROSALINDA MÉNDEZ LÓPEZ\n"
     ]
    }
   ],
   "source": [
    "print(name)"
   ]
  },
  {
   "cell_type": "code",
   "execution_count": null,
   "metadata": {},
   "outputs": [],
   "source": []
  }
 ],
 "metadata": {
  "kernelspec": {
   "display_name": "Python 3",
   "language": "python",
   "name": "python3"
  },
  "language_info": {
   "codemirror_mode": {
    "name": "ipython",
    "version": 3
   },
   "file_extension": ".py",
   "mimetype": "text/x-python",
   "name": "python",
   "nbconvert_exporter": "python",
   "pygments_lexer": "ipython3",
   "version": "3.7.3"
  }
 },
 "nbformat": 4,
 "nbformat_minor": 2
}

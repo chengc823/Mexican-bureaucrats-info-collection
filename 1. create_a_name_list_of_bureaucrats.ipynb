{
 "cells": [
  {
   "cell_type": "code",
   "execution_count": 1,
   "metadata": {},
   "outputs": [
    {
     "name": "stdout",
     "output_type": "stream",
     "text": [
      "Requirement already satisfied: selenium in c:\\users\\lenovo\\anaconda3\\lib\\site-packages (3.141.0)\n",
      "Requirement already satisfied: urllib3 in c:\\users\\lenovo\\anaconda3\\lib\\site-packages (from selenium) (1.24.2)\n",
      "Note: you may need to restart the kernel to use updated packages.\n"
     ]
    }
   ],
   "source": [
    "# import libraries\n",
    "%pip install selenium\n",
    "\n",
    "from selenium import webdriver\n",
    "from selenium.webdriver.common.keys import Keys\n",
    "from selenium.webdriver.support.select import Select\n",
    "import time\n",
    "import pandas as pd"
   ]
  },
  {
   "cell_type": "code",
   "execution_count": 2,
   "metadata": {},
   "outputs": [],
   "source": [
    "# add 'chromedriver' executable to PATH\n",
    "import os\n",
    "os.environ['PATH']+=\";C:\\Program Files (x86)\\Google\\Chrome\\Application\""
   ]
  },
  {
   "cell_type": "code",
   "execution_count": 34,
   "metadata": {},
   "outputs": [],
   "source": [
    "# navigate to the website\n",
    "start_url=\"https://tematicos.plataformadetransparencia.org.mx/web/guest/informacionrelevante/\"  # specify the target webpage\n",
    "\n",
    "chrome_options = webdriver.chrome.options.Options()\n",
    "chrome_options.add_argument('--headless')    \n",
    "driver = webdriver.Chrome(options=chrome_options)\n",
    "\n",
    "#driver=webdriver.Chrome()\n",
    "driver.get(start_url)\n",
    "time.sleep(5)\n",
    "\n",
    "try:\n",
    "    # click \"DIRECTORIO\"\n",
    "    driver.find_element_by_xpath(\"//*[@id='__flex-container-menu']/div[1]/a/div[1]/img\").click()\n",
    "    time.sleep(5)   \n",
    "except Exception as e:\n",
    "    print(e)"
   ]
  },
  {
   "cell_type": "code",
   "execution_count": 35,
   "metadata": {},
   "outputs": [],
   "source": [
    "# initialize the search\n",
    "try:\n",
    "    # click \"Búsqueda avanzada por campo\"\n",
    "    driver.find_element_by_id('filtrosAvanzadosDirectorioId').click()\n",
    "    time.sleep(8)\n",
    "    # select \"Federation\" at Estado o Federación\"\n",
    "    Select(driver.find_element_by_xpath(\"//*[@id='estadoFederacion']\")).select_by_value(\"33\") \n",
    "    time.sleep(8)\n",
    "    # click \"BUSCAR\"\n",
    "    driver.find_element_by_xpath(\"//*[@id='submitBusquedaAvanzada']\").click()\n",
    "    time.sleep(8)\n",
    "except Exception as e:\n",
    "    print(e)  "
   ]
  },
  {
   "cell_type": "code",
   "execution_count": 36,
   "metadata": {},
   "outputs": [],
   "source": [
    "# initialize the search\n",
    "try:\n",
    "    # number of results of each page (here:200)\n",
    "    Select(driver.find_element_by_xpath(\"//*[@id='selectRegistros']\")).select_by_value(\"200\")\n",
    "    time.sleep(3)\n",
    "    # select records from 2018/2019/2020\n",
    "    driver.find_element_by_id('a_2019').click() \n",
    "    time.sleep(3)\n",
    "except Exception as e:\n",
    "    print(e)"
   ]
  },
  {
   "cell_type": "markdown",
   "metadata": {},
   "source": [
    "**NOTE:** The contents on each page are loaded dynamically and spontaneously, which means that if a same page (e.g., page 2) is visited at different time, the website might display different results. Therefore, to avoid the potential problem of duplicates and/or missing records, the entire scraping is manualy divided into several rounds given that selenium-based web crawlers might break down in the middle if the target element is not found/has not been loaded. For each round of scraping, the starting page as well as the ending page are manually specified."
   ]
  },
  {
   "cell_type": "code",
   "execution_count": 56,
   "metadata": {
    "scrolled": true
   },
   "outputs": [
    {
     "name": "stdout",
     "output_type": "stream",
     "text": [
      "[844, 0]\n",
      "[845, 0]\n",
      "[846, 0]\n",
      "[847, 0]\n",
      "[848, 0]\n",
      "[849, 0]\n",
      "[850, 0]\n",
      "[851, 0]\n",
      "[852, 0]\n",
      "[853, 0]\n",
      "[854, 0]\n",
      "[855, 0]\n",
      "[856, 0]\n",
      "[857, 0]\n",
      "[858, 0]\n",
      "[859, 0]\n",
      "[860, 0]\n",
      "[861, 0]\n",
      "[862, 0]\n",
      "[863, 0]\n",
      "[864, 0]\n",
      "[865, 0]\n",
      "[866, 0]\n",
      "[867, 0]\n",
      "[868, 0]\n",
      "[869, 0]\n",
      "[870, 0]\n",
      "[871, 0]\n",
      "[872, 0]\n",
      "[873, 0]\n",
      "[874, 0]\n",
      "[875, 0]\n",
      "[876, 0]\n",
      "[877, 0]\n",
      "[878, 0]\n",
      "[879, 0]\n",
      "[880, 0]\n",
      "[881, 0]\n",
      "[882, 0]\n",
      "[883, 0]\n",
      "[884, 0]\n",
      "[885, 0]\n",
      "[886, 0]\n",
      "[887, 0]\n",
      "[888, 0]\n",
      "[889, 0]\n",
      "[890, 0]\n",
      "[891, 0]\n",
      "[892, 8]\n",
      "[893, 16]\n"
     ]
    }
   ],
   "source": [
    "# specify the last page (lastPage > 7, otherwise the codes should be modified accordingly)\n",
    "lastPage = 975  \n",
    "# specify the starting page for the current round of scraping\n",
    "stPage = 844\n",
    "# specify the ending page for the current round of scraping\n",
    "edPage = 975    \n",
    "\n",
    "currentPage = stPage\n",
    "toLastPage = lastPage-currentPage\n",
    "numPage = edPage-stPage + 1\n",
    "\n",
    "results = []\n",
    "for num in range(numPage):\n",
    "    # collect the institions of the employees\n",
    "    inst_1 = driver.find_elements_by_xpath(\"//tr[@class='cursor-pointer odd parent']/td[2]\")\n",
    "    inst_2 = driver.find_elements_by_xpath(\"//tr[@class='cursor-pointer even parent']/td[2]\")\n",
    "    # collect the names of the employees\n",
    "    name_1 = driver.find_elements_by_xpath(\"//tr[@class='cursor-pointer odd parent']/td[3]\")\n",
    "    name_2 = driver.find_elements_by_xpath(\"//tr[@class='cursor-pointer even parent']/td[3]\")\n",
    "    time.sleep(10) \n",
    "    \n",
    "    inst_total = inst_1 + inst_2\n",
    "    name_total = name_1 + name_2\n",
    "    for inst,name in zip(inst_total, name_total):\n",
    "        results.append((inst.text,name.text))\n",
    "    \n",
    "    # calculate the difference between the number of records should be collected and the number of \n",
    "    #  records actually collected to get an impression if the crawler works well\n",
    "    print([currentPage, 200 * (num + 1)-len(results)])  # 200 is the number of results on each page\n",
    "        \n",
    "    # go to the next page\n",
    "    #  reference to the page button visiting the next page (the target element) is dependent on the number of current \n",
    "    #  page or the distance to the last page, thus an if function is introduced to deal with different circumstances\n",
    "    num += 1\n",
    "    currentPage += 1\n",
    "    toLastPage -= 1\n",
    "    if currentPage in [2,3,4,5]:\n",
    "        driver.find_element_by_xpath('//*[@id=\"gridDirectorioFormulario_paginate\"]/span/a[{}]'.format(currentPage)).click() \n",
    "        time.sleep(8)\n",
    "    elif toLastPage == 1:\n",
    "        driver.find_element_by_xpath(\"//*[@id='gridDirectorioFormulario_paginate']/span/a[5]\").click() \n",
    "        time.sleep(8)\n",
    "    elif toLastPage == 0 or toLastPage == -1:\n",
    "        driver.find_element_by_xpath(\"//*[@id='gridDirectorioFormulario_paginate']/span/a[6]\").click() \n",
    "        time.sleep(8)\n",
    "    else:\n",
    "        driver.find_element_by_xpath(\"//*[@id='gridDirectorioFormulario_paginate']/span/a[4]\").click()\n",
    "        time.sleep(8)  \n",
    "        \n",
    "    driver.delete_all_cookies()\n",
    "    for l in [inst_1,inst_2,name_1,name_2]:\n",
    "        l.clear()"
   ]
  },
  {
   "cell_type": "code",
   "execution_count": 55,
   "metadata": {},
   "outputs": [
    {
     "name": "stdout",
     "output_type": "stream",
     "text": [
      "                                            Institución  \\\n",
      "0     Coordinación General de la Comisión Mexicana d...   \n",
      "1     Fideicomiso Fondo Nacional de Habitaciones Pop...   \n",
      "2     Fideicomiso Fondo Nacional de Habitaciones Pop...   \n",
      "3     Coordinación General de la Comisión Mexicana d...   \n",
      "4     Consejo Nacional para Prevenir la Discriminaci...   \n",
      "...                                                 ...   \n",
      "8595   Secretaría de Comunicaciones y Transportes (SCT)   \n",
      "8596   Secretaría de Comunicaciones y Transportes (SCT)   \n",
      "8597   Secretaría de Comunicaciones y Transportes (SCT)   \n",
      "8598   Secretaría de Comunicaciones y Transportes (SCT)   \n",
      "8599   Secretaría de Comunicaciones y Transportes (SCT)   \n",
      "\n",
      "                           Nombre  \n",
      "0     Myrna Leonor López Martinez  \n",
      "1         GERARDO BAUTISTA GARCIA  \n",
      "2        ROBERTO CARBAJAL CARMONA  \n",
      "3           Erika Sánchez Alvarez  \n",
      "4               VÍCTOR GÓMEZ LEÓN  \n",
      "...                           ...  \n",
      "8595           MARIO MEZA SANCHEZ  \n",
      "8596   MARCO ANTONIO ORTIZ DEHESA  \n",
      "8597          AURELIA CASTRO CRUZ  \n",
      "8598       MIREYA SOBERANIS LOPEZ  \n",
      "8599       ANTONIO GONZALEZ MUÑOZ  \n",
      "\n",
      "[8600 rows x 2 columns]\n"
     ]
    }
   ],
   "source": [
    "# save the results as dataframe\n",
    "df=pd.DataFrame(results)\n",
    "df.columns=['Institución','Nombre']\n",
    "print(df)\n",
    "\n",
    "# export the results as csv file\n",
    "df.to_csv('list_of_bureaucrats_2018_9.csv', encoding='utf-8-sig', index=False)"
   ]
  }
 ],
 "metadata": {
  "kernelspec": {
   "display_name": "Python 3",
   "language": "python",
   "name": "python3"
  },
  "language_info": {
   "codemirror_mode": {
    "name": "ipython",
    "version": 3
   },
   "file_extension": ".py",
   "mimetype": "text/x-python",
   "name": "python",
   "nbconvert_exporter": "python",
   "pygments_lexer": "ipython3",
   "version": "3.7.3"
  }
 },
 "nbformat": 4,
 "nbformat_minor": 2
}
